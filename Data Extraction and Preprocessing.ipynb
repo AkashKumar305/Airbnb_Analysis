{
 "cells": [
  {
   "cell_type": "markdown",
   "id": "b3711dab",
   "metadata": {},
   "source": [
    "### Importing Libraries"
   ]
  },
  {
   "cell_type": "code",
   "execution_count": 1,
   "id": "1e323dd8",
   "metadata": {},
   "outputs": [],
   "source": [
    "import ast\n",
    "import pymongo\n",
    "import json\n",
    "import pandas as pd\n",
    "import numpy as np\n",
    "from pprint import pprint\n",
    "pd.set_option('display.max_columns', None)"
   ]
  },
  {
   "cell_type": "code",
   "execution_count": 1,
   "id": "a0aead11",
   "metadata": {},
   "outputs": [],
   "source": [
    "# client = pymongo.MongoClient(\"link_from_your_mongodb_atlas\")"
   ]
  },
  {
   "cell_type": "code",
   "execution_count": 3,
   "id": "c7e3d300",
   "metadata": {},
   "outputs": [],
   "source": [
    "db = client['sample_airbnb']\n",
    "collection = db['listingsAndReviews']"
   ]
  },
  {
   "cell_type": "code",
   "execution_count": 4,
   "id": "159693a8",
   "metadata": {},
   "outputs": [],
   "source": [
    "data = list(collection.find())"
   ]
  },
  {
   "cell_type": "code",
   "execution_count": 5,
   "id": "f910e1fb",
   "metadata": {},
   "outputs": [],
   "source": [
    "df = pd.DataFrame(data)"
   ]
  },
  {
   "cell_type": "code",
   "execution_count": 6,
   "id": "f50254fe",
   "metadata": {},
   "outputs": [
    {
     "data": {
      "text/plain": [
       "(5555, 42)"
      ]
     },
     "execution_count": 6,
     "metadata": {},
     "output_type": "execute_result"
    }
   ],
   "source": [
    "df.shape"
   ]
  },
  {
   "cell_type": "code",
   "execution_count": 7,
   "id": "40ef6f23",
   "metadata": {},
   "outputs": [
    {
     "data": {
      "text/plain": [
       "Index(['_id', 'listing_url', 'name', 'summary', 'space', 'description',\n",
       "       'neighborhood_overview', 'notes', 'transit', 'access', 'interaction',\n",
       "       'house_rules', 'property_type', 'room_type', 'bed_type',\n",
       "       'minimum_nights', 'maximum_nights', 'cancellation_policy',\n",
       "       'last_scraped', 'calendar_last_scraped', 'first_review', 'last_review',\n",
       "       'accommodates', 'bedrooms', 'beds', 'number_of_reviews', 'bathrooms',\n",
       "       'amenities', 'price', 'security_deposit', 'cleaning_fee',\n",
       "       'extra_people', 'guests_included', 'images', 'host', 'address',\n",
       "       'availability', 'review_scores', 'reviews', 'weekly_price',\n",
       "       'monthly_price', 'reviews_per_month'],\n",
       "      dtype='object')"
      ]
     },
     "execution_count": 7,
     "metadata": {},
     "output_type": "execute_result"
    }
   ],
   "source": [
    "df.columns"
   ]
  },
  {
   "cell_type": "code",
   "execution_count": 8,
   "id": "29af32a9",
   "metadata": {},
   "outputs": [],
   "source": [
    "df.drop(['summary','space','description','neighborhood_overview','notes','transit','access',\n",
    "          'interaction','house_rules','weekly_price','monthly_price', 'reviews_per_month','last_scraped',\n",
    "               'calendar_last_scraped','last_review','reviews','first_review','security_deposit'],axis = 1, inplace = True)"
   ]
  },
  {
   "cell_type": "code",
   "execution_count": 9,
   "id": "bc521a17",
   "metadata": {},
   "outputs": [
    {
     "data": {
      "text/plain": [
       "(5555, 24)"
      ]
     },
     "execution_count": 9,
     "metadata": {},
     "output_type": "execute_result"
    }
   ],
   "source": [
    "df.shape"
   ]
  },
  {
   "cell_type": "code",
   "execution_count": 10,
   "id": "8b4ce7a5",
   "metadata": {},
   "outputs": [
    {
     "name": "stdout",
     "output_type": "stream",
     "text": [
      "<class 'pandas.core.frame.DataFrame'>\n",
      "RangeIndex: 5555 entries, 0 to 5554\n",
      "Data columns (total 24 columns):\n",
      " #   Column               Non-Null Count  Dtype  \n",
      "---  ------               --------------  -----  \n",
      " 0   _id                  5555 non-null   object \n",
      " 1   listing_url          5555 non-null   object \n",
      " 2   name                 5555 non-null   object \n",
      " 3   property_type        5555 non-null   object \n",
      " 4   room_type            5555 non-null   object \n",
      " 5   bed_type             5555 non-null   object \n",
      " 6   minimum_nights       5555 non-null   object \n",
      " 7   maximum_nights       5555 non-null   object \n",
      " 8   cancellation_policy  5555 non-null   object \n",
      " 9   accommodates         5555 non-null   int64  \n",
      " 10  bedrooms             5550 non-null   float64\n",
      " 11  beds                 5542 non-null   float64\n",
      " 12  number_of_reviews    5555 non-null   int64  \n",
      " 13  bathrooms            5545 non-null   object \n",
      " 14  amenities            5555 non-null   object \n",
      " 15  price                5555 non-null   object \n",
      " 16  cleaning_fee         4024 non-null   object \n",
      " 17  extra_people         5555 non-null   object \n",
      " 18  guests_included      5555 non-null   object \n",
      " 19  images               5555 non-null   object \n",
      " 20  host                 5555 non-null   object \n",
      " 21  address              5555 non-null   object \n",
      " 22  availability         5555 non-null   object \n",
      " 23  review_scores        5555 non-null   object \n",
      "dtypes: float64(2), int64(2), object(20)\n",
      "memory usage: 1.0+ MB\n"
     ]
    }
   ],
   "source": [
    "df.info()"
   ]
  },
  {
   "cell_type": "code",
   "execution_count": 11,
   "id": "1bc817cc",
   "metadata": {},
   "outputs": [
    {
     "data": {
      "text/plain": [
       "_id                       0\n",
       "listing_url               0\n",
       "name                      0\n",
       "property_type             0\n",
       "room_type                 0\n",
       "bed_type                  0\n",
       "minimum_nights            0\n",
       "maximum_nights            0\n",
       "cancellation_policy       0\n",
       "accommodates              0\n",
       "bedrooms                  5\n",
       "beds                     13\n",
       "number_of_reviews         0\n",
       "bathrooms                10\n",
       "amenities                 0\n",
       "price                     0\n",
       "cleaning_fee           1531\n",
       "extra_people              0\n",
       "guests_included           0\n",
       "images                    0\n",
       "host                      0\n",
       "address                   0\n",
       "availability              0\n",
       "review_scores             0\n",
       "dtype: int64"
      ]
     },
     "execution_count": 11,
     "metadata": {},
     "output_type": "execute_result"
    }
   ],
   "source": [
    "df.isnull().sum()"
   ]
  },
  {
   "cell_type": "code",
   "execution_count": 12,
   "id": "fc9e3754",
   "metadata": {},
   "outputs": [],
   "source": [
    "df.dropna(subset=['beds','bedrooms'], inplace=True)"
   ]
  },
  {
   "cell_type": "markdown",
   "id": "b3637775",
   "metadata": {},
   "source": [
    "### Host column"
   ]
  },
  {
   "cell_type": "code",
   "execution_count": 13,
   "id": "ffc5e6ab",
   "metadata": {},
   "outputs": [],
   "source": [
    "df['host'] = df['host'].astype(str)\n",
    "df['host'] = df['host'].apply(ast.literal_eval)"
   ]
  },
  {
   "cell_type": "code",
   "execution_count": 14,
   "id": "3950faa3",
   "metadata": {},
   "outputs": [],
   "source": [
    "host_columns_to_extract = ['host_id', 'host_url', 'host_name', 'host_location',\n",
    "                       'host_response_time', 'host_thumbnail_url', 'host_picture_url',\n",
    "                       'host_neighbourhood', 'host_response_rate', 'host_is_superhost',\n",
    "                       'host_has_profile_pic', 'host_identity_verified',\n",
    "                       'host_listings_count', 'host_total_listings_count',\n",
    "                       'host_verifications']"
   ]
  },
  {
   "cell_type": "code",
   "execution_count": 15,
   "id": "c72d2623",
   "metadata": {},
   "outputs": [],
   "source": [
    "for column in host_columns_to_extract:\n",
    "    df[column] = df['host'].apply(lambda x: x.get(column))"
   ]
  },
  {
   "cell_type": "code",
   "execution_count": 16,
   "id": "a3debd12",
   "metadata": {},
   "outputs": [],
   "source": [
    "df = df.drop('host',axis = 1)"
   ]
  },
  {
   "cell_type": "code",
   "execution_count": 17,
   "id": "e7b93abb",
   "metadata": {},
   "outputs": [],
   "source": [
    "mean_value = df['host_response_rate'].mean()\n",
    "df['host_response_rate'].fillna(mean_value, inplace=True)"
   ]
  },
  {
   "cell_type": "code",
   "execution_count": 18,
   "id": "fd7acd17",
   "metadata": {},
   "outputs": [
    {
     "data": {
      "text/plain": [
       "array(['within an hour', None, 'within a few hours', 'within a day',\n",
       "       'a few days or more'], dtype=object)"
      ]
     },
     "execution_count": 18,
     "metadata": {},
     "output_type": "execute_result"
    }
   ],
   "source": [
    "df['host_response_time'].unique()"
   ]
  },
  {
   "cell_type": "code",
   "execution_count": 19,
   "id": "822c357e",
   "metadata": {},
   "outputs": [],
   "source": [
    "df['host_response_time'].fillna('Not Specified', inplace = True)"
   ]
  },
  {
   "cell_type": "markdown",
   "id": "3646b471",
   "metadata": {},
   "source": [
    "### Address Column"
   ]
  },
  {
   "cell_type": "code",
   "execution_count": 20,
   "id": "f6b65df0",
   "metadata": {},
   "outputs": [],
   "source": [
    "df['address'] = df['address'].astype(str)\n",
    "df['address'] = df['address'].apply(ast.literal_eval)"
   ]
  },
  {
   "cell_type": "code",
   "execution_count": 21,
   "id": "141ec94f",
   "metadata": {},
   "outputs": [],
   "source": [
    "address_columns_to_extract = ['street','suburb','government_area','market','country','country_code']"
   ]
  },
  {
   "cell_type": "code",
   "execution_count": 22,
   "id": "2b50d565",
   "metadata": {},
   "outputs": [],
   "source": [
    "for column in address_columns_to_extract:\n",
    "    df[column] = df['address'].apply(lambda x: x.get(column))"
   ]
  },
  {
   "cell_type": "code",
   "execution_count": 23,
   "id": "96fc6b06",
   "metadata": {},
   "outputs": [
    {
     "data": {
      "text/plain": [
       "{'type': 'Point',\n",
       " 'coordinates': [-8.61308, 41.1413],\n",
       " 'is_location_exact': False}"
      ]
     },
     "execution_count": 23,
     "metadata": {},
     "output_type": "execute_result"
    }
   ],
   "source": [
    "df['address'][0]['location']"
   ]
  },
  {
   "cell_type": "code",
   "execution_count": 24,
   "id": "febad466",
   "metadata": {},
   "outputs": [],
   "source": [
    "df['location_type'] = df['address'].apply(lambda x: x['location'].get('type'))\n",
    "df['latitude'] = df['address'].apply(lambda x: x['location']['coordinates'][1])\n",
    "df['longitude'] = df['address'].apply(lambda x: x['location']['coordinates'][0])\n",
    "df['is_location_exact'] = df['address'].apply(lambda x: x['location'].get('is_location_exact'))"
   ]
  },
  {
   "cell_type": "code",
   "execution_count": 25,
   "id": "7592f6ed",
   "metadata": {},
   "outputs": [],
   "source": [
    "df.drop('address',axis = 1, inplace = True)"
   ]
  },
  {
   "cell_type": "markdown",
   "id": "1eda1352",
   "metadata": {},
   "source": [
    "### Image Column"
   ]
  },
  {
   "cell_type": "code",
   "execution_count": 26,
   "id": "b37a3a90",
   "metadata": {},
   "outputs": [],
   "source": [
    "df['images'] = df['images'].astype(str)\n",
    "df['images'] = df['images'].apply(ast.literal_eval)"
   ]
  },
  {
   "cell_type": "code",
   "execution_count": 27,
   "id": "96764ade",
   "metadata": {},
   "outputs": [
    {
     "data": {
      "text/plain": [
       "'https://a0.muscache.com/im/pictures/e83e702f-ef49-40fb-8fa0-6512d7e26e9b.jpg?aki_policy=large'"
      ]
     },
     "execution_count": 27,
     "metadata": {},
     "output_type": "execute_result"
    }
   ],
   "source": [
    "df['images'].to_dict()[0].get('picture_url')"
   ]
  },
  {
   "cell_type": "code",
   "execution_count": 28,
   "id": "a0248faf",
   "metadata": {},
   "outputs": [],
   "source": [
    "df['images'] = df['images'].apply(lambda x: x.get('picture_url'))"
   ]
  },
  {
   "cell_type": "markdown",
   "id": "acb8ec4f",
   "metadata": {},
   "source": [
    "### Availability Column"
   ]
  },
  {
   "cell_type": "code",
   "execution_count": 29,
   "id": "4675a7db",
   "metadata": {},
   "outputs": [],
   "source": [
    "df['availability'] = df['availability'].astype(str)\n",
    "df['availability'] = df['availability'].apply(ast.literal_eval)"
   ]
  },
  {
   "cell_type": "code",
   "execution_count": 30,
   "id": "104903f5",
   "metadata": {},
   "outputs": [
    {
     "data": {
      "text/plain": [
       "{'availability_30': 28,\n",
       " 'availability_60': 47,\n",
       " 'availability_90': 74,\n",
       " 'availability_365': 239}"
      ]
     },
     "execution_count": 30,
     "metadata": {},
     "output_type": "execute_result"
    }
   ],
   "source": [
    "df.availability.to_dict()[0]"
   ]
  },
  {
   "cell_type": "code",
   "execution_count": 31,
   "id": "8758c2ad",
   "metadata": {},
   "outputs": [],
   "source": [
    "df['availability_30'] = df['availability'].apply(lambda x: x.get('availability_30'))\n",
    "df['availability_60'] = df['availability'].apply(lambda x: x.get('availability_60'))\n",
    "df['availability_90'] = df['availability'].apply(lambda x: x.get('availability_90'))\n",
    "df['availability_365'] = df['availability'].apply(lambda x: x.get('availability_365'))"
   ]
  },
  {
   "cell_type": "code",
   "execution_count": 32,
   "id": "34c22333",
   "metadata": {},
   "outputs": [],
   "source": [
    "df.drop('availability',axis = 1, inplace = True)"
   ]
  },
  {
   "cell_type": "code",
   "execution_count": 33,
   "id": "f4ff4192",
   "metadata": {},
   "outputs": [],
   "source": [
    "df['review_scores'] = df['review_scores'].astype(str)\n",
    "df['review_scores'] = df['review_scores'].apply(ast.literal_eval)\n",
    "df['review_scores'] = df['review_scores'].apply(lambda x: x.get('review_scores_rating'))"
   ]
  },
  {
   "cell_type": "markdown",
   "id": "6066a22e",
   "metadata": {},
   "source": [
    "### Data Conversion"
   ]
  },
  {
   "cell_type": "code",
   "execution_count": 34,
   "id": "3ea1aafc",
   "metadata": {},
   "outputs": [
    {
     "data": {
      "text/plain": [
       "_id                             0\n",
       "listing_url                     0\n",
       "name                            0\n",
       "property_type                   0\n",
       "room_type                       0\n",
       "bed_type                        0\n",
       "minimum_nights                  0\n",
       "maximum_nights                  0\n",
       "cancellation_policy             0\n",
       "accommodates                    0\n",
       "bedrooms                        0\n",
       "beds                            0\n",
       "number_of_reviews               0\n",
       "bathrooms                       7\n",
       "amenities                       0\n",
       "price                           0\n",
       "cleaning_fee                 1518\n",
       "extra_people                    0\n",
       "guests_included                 0\n",
       "images                          0\n",
       "review_scores                1462\n",
       "host_id                         0\n",
       "host_url                        0\n",
       "host_name                       0\n",
       "host_location                   0\n",
       "host_response_time              0\n",
       "host_thumbnail_url              0\n",
       "host_picture_url                0\n",
       "host_neighbourhood              0\n",
       "host_response_rate              0\n",
       "host_is_superhost               0\n",
       "host_has_profile_pic            0\n",
       "host_identity_verified          0\n",
       "host_listings_count             0\n",
       "host_total_listings_count       0\n",
       "host_verifications              0\n",
       "street                          0\n",
       "suburb                          0\n",
       "government_area                 0\n",
       "market                          0\n",
       "country                         0\n",
       "country_code                    0\n",
       "location_type                   0\n",
       "latitude                        0\n",
       "longitude                       0\n",
       "is_location_exact               0\n",
       "availability_30                 0\n",
       "availability_60                 0\n",
       "availability_90                 0\n",
       "availability_365                0\n",
       "dtype: int64"
      ]
     },
     "execution_count": 34,
     "metadata": {},
     "output_type": "execute_result"
    }
   ],
   "source": [
    "df.isnull().sum()"
   ]
  },
  {
   "cell_type": "code",
   "execution_count": 35,
   "id": "4ae67c65",
   "metadata": {},
   "outputs": [],
   "source": [
    "df.cleaning_fee.fillna('Not Specified', inplace = True)\n",
    "df.review_scores.fillna(0,inplace = True)\n",
    "df.bathrooms.fillna(1,inplace = True)"
   ]
  },
  {
   "cell_type": "code",
   "execution_count": 36,
   "id": "19b5b7a7",
   "metadata": {},
   "outputs": [
    {
     "data": {
      "text/plain": [
       "_id                          0\n",
       "listing_url                  0\n",
       "name                         0\n",
       "property_type                0\n",
       "room_type                    0\n",
       "bed_type                     0\n",
       "minimum_nights               0\n",
       "maximum_nights               0\n",
       "cancellation_policy          0\n",
       "accommodates                 0\n",
       "bedrooms                     0\n",
       "beds                         0\n",
       "number_of_reviews            0\n",
       "bathrooms                    0\n",
       "amenities                    0\n",
       "price                        0\n",
       "cleaning_fee                 0\n",
       "extra_people                 0\n",
       "guests_included              0\n",
       "images                       0\n",
       "review_scores                0\n",
       "host_id                      0\n",
       "host_url                     0\n",
       "host_name                    0\n",
       "host_location                0\n",
       "host_response_time           0\n",
       "host_thumbnail_url           0\n",
       "host_picture_url             0\n",
       "host_neighbourhood           0\n",
       "host_response_rate           0\n",
       "host_is_superhost            0\n",
       "host_has_profile_pic         0\n",
       "host_identity_verified       0\n",
       "host_listings_count          0\n",
       "host_total_listings_count    0\n",
       "host_verifications           0\n",
       "street                       0\n",
       "suburb                       0\n",
       "government_area              0\n",
       "market                       0\n",
       "country                      0\n",
       "country_code                 0\n",
       "location_type                0\n",
       "latitude                     0\n",
       "longitude                    0\n",
       "is_location_exact            0\n",
       "availability_30              0\n",
       "availability_60              0\n",
       "availability_90              0\n",
       "availability_365             0\n",
       "dtype: int64"
      ]
     },
     "execution_count": 36,
     "metadata": {},
     "output_type": "execute_result"
    }
   ],
   "source": [
    "df.isnull().sum()"
   ]
  },
  {
   "cell_type": "code",
   "execution_count": 37,
   "id": "11a1d23d",
   "metadata": {},
   "outputs": [],
   "source": [
    "for column in df.columns:\n",
    "    if df[column].dtype == bool:\n",
    "        df[column] = df[column].map({True: 1, False: 0})"
   ]
  },
  {
   "cell_type": "code",
   "execution_count": 38,
   "id": "00ac2df1",
   "metadata": {},
   "outputs": [],
   "source": [
    "columns_to_convert = ['minimum_nights', 'maximum_nights', 'bedrooms',\n",
    "                      'beds' ,'review_scores']\n",
    "\n",
    "df[columns_to_convert] = df[columns_to_convert].astype(int)"
   ]
  },
  {
   "cell_type": "code",
   "execution_count": 39,
   "id": "5c9f8b53",
   "metadata": {},
   "outputs": [],
   "source": [
    "columns_to_convert = ['price','extra_people','guests_included']\n",
    "\n",
    "df[columns_to_convert] = df[columns_to_convert].astype(str).astype(float).astype(int)"
   ]
  },
  {
   "cell_type": "code",
   "execution_count": 40,
   "id": "19696121",
   "metadata": {},
   "outputs": [
    {
     "data": {
      "text/plain": [
       "_id                           object\n",
       "listing_url                   object\n",
       "name                          object\n",
       "property_type                 object\n",
       "room_type                     object\n",
       "bed_type                      object\n",
       "minimum_nights                 int32\n",
       "maximum_nights                 int32\n",
       "cancellation_policy           object\n",
       "accommodates                   int64\n",
       "bedrooms                       int32\n",
       "beds                           int32\n",
       "number_of_reviews              int64\n",
       "bathrooms                     object\n",
       "amenities                     object\n",
       "price                          int32\n",
       "cleaning_fee                  object\n",
       "extra_people                   int32\n",
       "guests_included                int32\n",
       "images                        object\n",
       "review_scores                  int32\n",
       "host_id                       object\n",
       "host_url                      object\n",
       "host_name                     object\n",
       "host_location                 object\n",
       "host_response_time            object\n",
       "host_thumbnail_url            object\n",
       "host_picture_url              object\n",
       "host_neighbourhood            object\n",
       "host_response_rate           float64\n",
       "host_is_superhost              int64\n",
       "host_has_profile_pic           int64\n",
       "host_identity_verified         int64\n",
       "host_listings_count            int64\n",
       "host_total_listings_count      int64\n",
       "host_verifications            object\n",
       "street                        object\n",
       "suburb                        object\n",
       "government_area               object\n",
       "market                        object\n",
       "country                       object\n",
       "country_code                  object\n",
       "location_type                 object\n",
       "latitude                     float64\n",
       "longitude                    float64\n",
       "is_location_exact              int64\n",
       "availability_30                int64\n",
       "availability_60                int64\n",
       "availability_90                int64\n",
       "availability_365               int64\n",
       "dtype: object"
      ]
     },
     "execution_count": 40,
     "metadata": {},
     "output_type": "execute_result"
    }
   ],
   "source": [
    "df.dtypes"
   ]
  },
  {
   "cell_type": "code",
   "execution_count": 41,
   "id": "c6b6a04c",
   "metadata": {},
   "outputs": [],
   "source": [
    "df.to_csv('airbnb.csv', index = False)"
   ]
  },
  {
   "cell_type": "code",
   "execution_count": 43,
   "id": "3b332b7b",
   "metadata": {},
   "outputs": [
    {
     "data": {
      "text/html": [
       "<div>\n",
       "<style scoped>\n",
       "    .dataframe tbody tr th:only-of-type {\n",
       "        vertical-align: middle;\n",
       "    }\n",
       "\n",
       "    .dataframe tbody tr th {\n",
       "        vertical-align: top;\n",
       "    }\n",
       "\n",
       "    .dataframe thead th {\n",
       "        text-align: right;\n",
       "    }\n",
       "</style>\n",
       "<table border=\"1\" class=\"dataframe\">\n",
       "  <thead>\n",
       "    <tr style=\"text-align: right;\">\n",
       "      <th></th>\n",
       "      <th>_id</th>\n",
       "      <th>listing_url</th>\n",
       "      <th>name</th>\n",
       "      <th>property_type</th>\n",
       "      <th>room_type</th>\n",
       "      <th>bed_type</th>\n",
       "      <th>minimum_nights</th>\n",
       "      <th>maximum_nights</th>\n",
       "      <th>cancellation_policy</th>\n",
       "      <th>accommodates</th>\n",
       "      <th>bedrooms</th>\n",
       "      <th>beds</th>\n",
       "      <th>number_of_reviews</th>\n",
       "      <th>bathrooms</th>\n",
       "      <th>amenities</th>\n",
       "      <th>price</th>\n",
       "      <th>cleaning_fee</th>\n",
       "      <th>extra_people</th>\n",
       "      <th>guests_included</th>\n",
       "      <th>images</th>\n",
       "      <th>review_scores</th>\n",
       "      <th>host_id</th>\n",
       "      <th>host_url</th>\n",
       "      <th>host_name</th>\n",
       "      <th>host_location</th>\n",
       "      <th>host_response_time</th>\n",
       "      <th>host_thumbnail_url</th>\n",
       "      <th>host_picture_url</th>\n",
       "      <th>host_neighbourhood</th>\n",
       "      <th>host_response_rate</th>\n",
       "      <th>host_is_superhost</th>\n",
       "      <th>host_has_profile_pic</th>\n",
       "      <th>host_identity_verified</th>\n",
       "      <th>host_listings_count</th>\n",
       "      <th>host_total_listings_count</th>\n",
       "      <th>host_verifications</th>\n",
       "      <th>street</th>\n",
       "      <th>suburb</th>\n",
       "      <th>government_area</th>\n",
       "      <th>market</th>\n",
       "      <th>country</th>\n",
       "      <th>country_code</th>\n",
       "      <th>location_type</th>\n",
       "      <th>latitude</th>\n",
       "      <th>longitude</th>\n",
       "      <th>is_location_exact</th>\n",
       "      <th>availability_30</th>\n",
       "      <th>availability_60</th>\n",
       "      <th>availability_90</th>\n",
       "      <th>availability_365</th>\n",
       "    </tr>\n",
       "  </thead>\n",
       "  <tbody>\n",
       "    <tr>\n",
       "      <th>0</th>\n",
       "      <td>10006546</td>\n",
       "      <td>https://www.airbnb.com/rooms/10006546</td>\n",
       "      <td>Ribeira Charming Duplex</td>\n",
       "      <td>House</td>\n",
       "      <td>Entire home/apt</td>\n",
       "      <td>Real Bed</td>\n",
       "      <td>2</td>\n",
       "      <td>30</td>\n",
       "      <td>moderate</td>\n",
       "      <td>8</td>\n",
       "      <td>3</td>\n",
       "      <td>5</td>\n",
       "      <td>51</td>\n",
       "      <td>1.0</td>\n",
       "      <td>[TV, Cable TV, Wifi, Kitchen, Paid parking off...</td>\n",
       "      <td>80</td>\n",
       "      <td>35.00</td>\n",
       "      <td>15</td>\n",
       "      <td>6</td>\n",
       "      <td>https://a0.muscache.com/im/pictures/e83e702f-e...</td>\n",
       "      <td>89</td>\n",
       "      <td>51399391</td>\n",
       "      <td>https://www.airbnb.com/users/show/51399391</td>\n",
       "      <td>Ana&amp;Gonçalo</td>\n",
       "      <td>Porto, Porto District, Portugal</td>\n",
       "      <td>within an hour</td>\n",
       "      <td>https://a0.muscache.com/im/pictures/fab79f25-2...</td>\n",
       "      <td>https://a0.muscache.com/im/pictures/fab79f25-2...</td>\n",
       "      <td></td>\n",
       "      <td>100.000000</td>\n",
       "      <td>0</td>\n",
       "      <td>1</td>\n",
       "      <td>1</td>\n",
       "      <td>3</td>\n",
       "      <td>3</td>\n",
       "      <td>[email, phone, reviews, jumio, offline_governm...</td>\n",
       "      <td>Porto, Porto, Portugal</td>\n",
       "      <td></td>\n",
       "      <td>Cedofeita, Ildefonso, Sé, Miragaia, Nicolau, V...</td>\n",
       "      <td>Porto</td>\n",
       "      <td>Portugal</td>\n",
       "      <td>PT</td>\n",
       "      <td>Point</td>\n",
       "      <td>41.141300</td>\n",
       "      <td>-8.613080</td>\n",
       "      <td>0</td>\n",
       "      <td>28</td>\n",
       "      <td>47</td>\n",
       "      <td>74</td>\n",
       "      <td>239</td>\n",
       "    </tr>\n",
       "    <tr>\n",
       "      <th>1</th>\n",
       "      <td>10009999</td>\n",
       "      <td>https://www.airbnb.com/rooms/10009999</td>\n",
       "      <td>Horto flat with small garden</td>\n",
       "      <td>Apartment</td>\n",
       "      <td>Entire home/apt</td>\n",
       "      <td>Real Bed</td>\n",
       "      <td>2</td>\n",
       "      <td>1125</td>\n",
       "      <td>flexible</td>\n",
       "      <td>4</td>\n",
       "      <td>1</td>\n",
       "      <td>2</td>\n",
       "      <td>0</td>\n",
       "      <td>1.0</td>\n",
       "      <td>[Wifi, Wheelchair accessible, Kitchen, Free pa...</td>\n",
       "      <td>317</td>\n",
       "      <td>187.00</td>\n",
       "      <td>0</td>\n",
       "      <td>1</td>\n",
       "      <td>https://a0.muscache.com/im/pictures/5b408b9e-4...</td>\n",
       "      <td>0</td>\n",
       "      <td>1282196</td>\n",
       "      <td>https://www.airbnb.com/users/show/1282196</td>\n",
       "      <td>Ynaie</td>\n",
       "      <td>Rio de Janeiro, State of Rio de Janeiro, Brazil</td>\n",
       "      <td>Not Specified</td>\n",
       "      <td>https://a0.muscache.com/im/pictures/9681e3cc-4...</td>\n",
       "      <td>https://a0.muscache.com/im/pictures/9681e3cc-4...</td>\n",
       "      <td>Jardim Botânico</td>\n",
       "      <td>93.127614</td>\n",
       "      <td>0</td>\n",
       "      <td>1</td>\n",
       "      <td>0</td>\n",
       "      <td>1</td>\n",
       "      <td>1</td>\n",
       "      <td>[email, phone, facebook]</td>\n",
       "      <td>Rio de Janeiro, Rio de Janeiro, Brazil</td>\n",
       "      <td>Jardim Botânico</td>\n",
       "      <td>Jardim Botânico</td>\n",
       "      <td>Rio De Janeiro</td>\n",
       "      <td>Brazil</td>\n",
       "      <td>BR</td>\n",
       "      <td>Point</td>\n",
       "      <td>-22.966254</td>\n",
       "      <td>-43.230750</td>\n",
       "      <td>1</td>\n",
       "      <td>0</td>\n",
       "      <td>0</td>\n",
       "      <td>0</td>\n",
       "      <td>0</td>\n",
       "    </tr>\n",
       "    <tr>\n",
       "      <th>2</th>\n",
       "      <td>1001265</td>\n",
       "      <td>https://www.airbnb.com/rooms/1001265</td>\n",
       "      <td>Ocean View Waikiki Marina w/prkg</td>\n",
       "      <td>Condominium</td>\n",
       "      <td>Entire home/apt</td>\n",
       "      <td>Real Bed</td>\n",
       "      <td>3</td>\n",
       "      <td>365</td>\n",
       "      <td>strict_14_with_grace_period</td>\n",
       "      <td>2</td>\n",
       "      <td>1</td>\n",
       "      <td>1</td>\n",
       "      <td>96</td>\n",
       "      <td>1.0</td>\n",
       "      <td>[TV, Cable TV, Wifi, Air conditioning, Pool, K...</td>\n",
       "      <td>115</td>\n",
       "      <td>100.00</td>\n",
       "      <td>0</td>\n",
       "      <td>1</td>\n",
       "      <td>https://a0.muscache.com/im/pictures/15037101/5...</td>\n",
       "      <td>84</td>\n",
       "      <td>5448114</td>\n",
       "      <td>https://www.airbnb.com/users/show/5448114</td>\n",
       "      <td>David</td>\n",
       "      <td>Honolulu, Hawaii, United States</td>\n",
       "      <td>within an hour</td>\n",
       "      <td>https://a0.muscache.com/im/users/5448114/profi...</td>\n",
       "      <td>https://a0.muscache.com/im/users/5448114/profi...</td>\n",
       "      <td>Waikiki</td>\n",
       "      <td>98.000000</td>\n",
       "      <td>0</td>\n",
       "      <td>1</td>\n",
       "      <td>0</td>\n",
       "      <td>18</td>\n",
       "      <td>18</td>\n",
       "      <td>[email, phone, reviews, kba]</td>\n",
       "      <td>Honolulu, HI, United States</td>\n",
       "      <td>Oʻahu</td>\n",
       "      <td>Primary Urban Center</td>\n",
       "      <td>Oahu</td>\n",
       "      <td>United States</td>\n",
       "      <td>US</td>\n",
       "      <td>Point</td>\n",
       "      <td>21.286340</td>\n",
       "      <td>-157.839190</td>\n",
       "      <td>1</td>\n",
       "      <td>16</td>\n",
       "      <td>46</td>\n",
       "      <td>76</td>\n",
       "      <td>343</td>\n",
       "    </tr>\n",
       "    <tr>\n",
       "      <th>3</th>\n",
       "      <td>10021707</td>\n",
       "      <td>https://www.airbnb.com/rooms/10021707</td>\n",
       "      <td>Private Room in Bushwick</td>\n",
       "      <td>Apartment</td>\n",
       "      <td>Private room</td>\n",
       "      <td>Real Bed</td>\n",
       "      <td>14</td>\n",
       "      <td>1125</td>\n",
       "      <td>flexible</td>\n",
       "      <td>1</td>\n",
       "      <td>1</td>\n",
       "      <td>1</td>\n",
       "      <td>1</td>\n",
       "      <td>1.5</td>\n",
       "      <td>[Internet, Wifi, Air conditioning, Kitchen, Bu...</td>\n",
       "      <td>40</td>\n",
       "      <td>Not Specified</td>\n",
       "      <td>0</td>\n",
       "      <td>1</td>\n",
       "      <td>https://a0.muscache.com/im/pictures/72844c8c-f...</td>\n",
       "      <td>100</td>\n",
       "      <td>11275734</td>\n",
       "      <td>https://www.airbnb.com/users/show/11275734</td>\n",
       "      <td>Josh</td>\n",
       "      <td>New York, New York, United States</td>\n",
       "      <td>Not Specified</td>\n",
       "      <td>https://a0.muscache.com/im/users/11275734/prof...</td>\n",
       "      <td>https://a0.muscache.com/im/users/11275734/prof...</td>\n",
       "      <td>Bushwick</td>\n",
       "      <td>93.127614</td>\n",
       "      <td>0</td>\n",
       "      <td>1</td>\n",
       "      <td>1</td>\n",
       "      <td>1</td>\n",
       "      <td>1</td>\n",
       "      <td>[email, phone, reviews, kba]</td>\n",
       "      <td>Brooklyn, NY, United States</td>\n",
       "      <td>Brooklyn</td>\n",
       "      <td>Bushwick</td>\n",
       "      <td>New York</td>\n",
       "      <td>United States</td>\n",
       "      <td>US</td>\n",
       "      <td>Point</td>\n",
       "      <td>40.697910</td>\n",
       "      <td>-73.936150</td>\n",
       "      <td>1</td>\n",
       "      <td>0</td>\n",
       "      <td>0</td>\n",
       "      <td>0</td>\n",
       "      <td>0</td>\n",
       "    </tr>\n",
       "    <tr>\n",
       "      <th>4</th>\n",
       "      <td>10030955</td>\n",
       "      <td>https://www.airbnb.com/rooms/10030955</td>\n",
       "      <td>Apt Linda Vista Lagoa - Rio</td>\n",
       "      <td>Apartment</td>\n",
       "      <td>Private room</td>\n",
       "      <td>Real Bed</td>\n",
       "      <td>1</td>\n",
       "      <td>1125</td>\n",
       "      <td>flexible</td>\n",
       "      <td>2</td>\n",
       "      <td>1</td>\n",
       "      <td>1</td>\n",
       "      <td>0</td>\n",
       "      <td>2.0</td>\n",
       "      <td>[TV, Cable TV, Internet, Wifi, Air conditionin...</td>\n",
       "      <td>701</td>\n",
       "      <td>250.00</td>\n",
       "      <td>0</td>\n",
       "      <td>1</td>\n",
       "      <td>https://a0.muscache.com/im/pictures/59c516bd-c...</td>\n",
       "      <td>0</td>\n",
       "      <td>51496939</td>\n",
       "      <td>https://www.airbnb.com/users/show/51496939</td>\n",
       "      <td>Livia</td>\n",
       "      <td>BR</td>\n",
       "      <td>Not Specified</td>\n",
       "      <td>https://a0.muscache.com/im/pictures/b7911710-9...</td>\n",
       "      <td>https://a0.muscache.com/im/pictures/b7911710-9...</td>\n",
       "      <td>Lagoa</td>\n",
       "      <td>93.127614</td>\n",
       "      <td>0</td>\n",
       "      <td>1</td>\n",
       "      <td>0</td>\n",
       "      <td>1</td>\n",
       "      <td>1</td>\n",
       "      <td>[email, phone, jumio, government_id]</td>\n",
       "      <td>Rio de Janeiro, Rio de Janeiro, Brazil</td>\n",
       "      <td>Lagoa</td>\n",
       "      <td>Lagoa</td>\n",
       "      <td>Rio De Janeiro</td>\n",
       "      <td>Brazil</td>\n",
       "      <td>BR</td>\n",
       "      <td>Point</td>\n",
       "      <td>-22.971951</td>\n",
       "      <td>-43.205047</td>\n",
       "      <td>1</td>\n",
       "      <td>28</td>\n",
       "      <td>58</td>\n",
       "      <td>88</td>\n",
       "      <td>363</td>\n",
       "    </tr>\n",
       "  </tbody>\n",
       "</table>\n",
       "</div>"
      ],
      "text/plain": [
       "        _id                            listing_url  \\\n",
       "0  10006546  https://www.airbnb.com/rooms/10006546   \n",
       "1  10009999  https://www.airbnb.com/rooms/10009999   \n",
       "2   1001265   https://www.airbnb.com/rooms/1001265   \n",
       "3  10021707  https://www.airbnb.com/rooms/10021707   \n",
       "4  10030955  https://www.airbnb.com/rooms/10030955   \n",
       "\n",
       "                               name property_type        room_type  bed_type  \\\n",
       "0           Ribeira Charming Duplex         House  Entire home/apt  Real Bed   \n",
       "1      Horto flat with small garden     Apartment  Entire home/apt  Real Bed   \n",
       "2  Ocean View Waikiki Marina w/prkg   Condominium  Entire home/apt  Real Bed   \n",
       "3          Private Room in Bushwick     Apartment     Private room  Real Bed   \n",
       "4       Apt Linda Vista Lagoa - Rio     Apartment     Private room  Real Bed   \n",
       "\n",
       "   minimum_nights  maximum_nights          cancellation_policy  accommodates  \\\n",
       "0               2              30                     moderate             8   \n",
       "1               2            1125                     flexible             4   \n",
       "2               3             365  strict_14_with_grace_period             2   \n",
       "3              14            1125                     flexible             1   \n",
       "4               1            1125                     flexible             2   \n",
       "\n",
       "   bedrooms  beds  number_of_reviews bathrooms  \\\n",
       "0         3     5                 51       1.0   \n",
       "1         1     2                  0       1.0   \n",
       "2         1     1                 96       1.0   \n",
       "3         1     1                  1       1.5   \n",
       "4         1     1                  0       2.0   \n",
       "\n",
       "                                           amenities  price   cleaning_fee  \\\n",
       "0  [TV, Cable TV, Wifi, Kitchen, Paid parking off...     80          35.00   \n",
       "1  [Wifi, Wheelchair accessible, Kitchen, Free pa...    317         187.00   \n",
       "2  [TV, Cable TV, Wifi, Air conditioning, Pool, K...    115         100.00   \n",
       "3  [Internet, Wifi, Air conditioning, Kitchen, Bu...     40  Not Specified   \n",
       "4  [TV, Cable TV, Internet, Wifi, Air conditionin...    701         250.00   \n",
       "\n",
       "   extra_people  guests_included  \\\n",
       "0            15                6   \n",
       "1             0                1   \n",
       "2             0                1   \n",
       "3             0                1   \n",
       "4             0                1   \n",
       "\n",
       "                                              images  review_scores   host_id  \\\n",
       "0  https://a0.muscache.com/im/pictures/e83e702f-e...             89  51399391   \n",
       "1  https://a0.muscache.com/im/pictures/5b408b9e-4...              0   1282196   \n",
       "2  https://a0.muscache.com/im/pictures/15037101/5...             84   5448114   \n",
       "3  https://a0.muscache.com/im/pictures/72844c8c-f...            100  11275734   \n",
       "4  https://a0.muscache.com/im/pictures/59c516bd-c...              0  51496939   \n",
       "\n",
       "                                     host_url    host_name  \\\n",
       "0  https://www.airbnb.com/users/show/51399391  Ana&Gonçalo   \n",
       "1   https://www.airbnb.com/users/show/1282196        Ynaie   \n",
       "2   https://www.airbnb.com/users/show/5448114        David   \n",
       "3  https://www.airbnb.com/users/show/11275734         Josh   \n",
       "4  https://www.airbnb.com/users/show/51496939        Livia   \n",
       "\n",
       "                                     host_location host_response_time  \\\n",
       "0                  Porto, Porto District, Portugal     within an hour   \n",
       "1  Rio de Janeiro, State of Rio de Janeiro, Brazil      Not Specified   \n",
       "2                  Honolulu, Hawaii, United States     within an hour   \n",
       "3                New York, New York, United States      Not Specified   \n",
       "4                                               BR      Not Specified   \n",
       "\n",
       "                                  host_thumbnail_url  \\\n",
       "0  https://a0.muscache.com/im/pictures/fab79f25-2...   \n",
       "1  https://a0.muscache.com/im/pictures/9681e3cc-4...   \n",
       "2  https://a0.muscache.com/im/users/5448114/profi...   \n",
       "3  https://a0.muscache.com/im/users/11275734/prof...   \n",
       "4  https://a0.muscache.com/im/pictures/b7911710-9...   \n",
       "\n",
       "                                    host_picture_url host_neighbourhood  \\\n",
       "0  https://a0.muscache.com/im/pictures/fab79f25-2...                      \n",
       "1  https://a0.muscache.com/im/pictures/9681e3cc-4...    Jardim Botânico   \n",
       "2  https://a0.muscache.com/im/users/5448114/profi...            Waikiki   \n",
       "3  https://a0.muscache.com/im/users/11275734/prof...           Bushwick   \n",
       "4  https://a0.muscache.com/im/pictures/b7911710-9...              Lagoa   \n",
       "\n",
       "   host_response_rate  host_is_superhost  host_has_profile_pic  \\\n",
       "0          100.000000                  0                     1   \n",
       "1           93.127614                  0                     1   \n",
       "2           98.000000                  0                     1   \n",
       "3           93.127614                  0                     1   \n",
       "4           93.127614                  0                     1   \n",
       "\n",
       "   host_identity_verified  host_listings_count  host_total_listings_count  \\\n",
       "0                       1                    3                          3   \n",
       "1                       0                    1                          1   \n",
       "2                       0                   18                         18   \n",
       "3                       1                    1                          1   \n",
       "4                       0                    1                          1   \n",
       "\n",
       "                                  host_verifications  \\\n",
       "0  [email, phone, reviews, jumio, offline_governm...   \n",
       "1                           [email, phone, facebook]   \n",
       "2                       [email, phone, reviews, kba]   \n",
       "3                       [email, phone, reviews, kba]   \n",
       "4               [email, phone, jumio, government_id]   \n",
       "\n",
       "                                   street           suburb  \\\n",
       "0                  Porto, Porto, Portugal                    \n",
       "1  Rio de Janeiro, Rio de Janeiro, Brazil  Jardim Botânico   \n",
       "2             Honolulu, HI, United States            Oʻahu   \n",
       "3             Brooklyn, NY, United States         Brooklyn   \n",
       "4  Rio de Janeiro, Rio de Janeiro, Brazil            Lagoa   \n",
       "\n",
       "                                     government_area          market  \\\n",
       "0  Cedofeita, Ildefonso, Sé, Miragaia, Nicolau, V...           Porto   \n",
       "1                                    Jardim Botânico  Rio De Janeiro   \n",
       "2                               Primary Urban Center            Oahu   \n",
       "3                                           Bushwick        New York   \n",
       "4                                              Lagoa  Rio De Janeiro   \n",
       "\n",
       "         country country_code location_type   latitude   longitude  \\\n",
       "0       Portugal           PT         Point  41.141300   -8.613080   \n",
       "1         Brazil           BR         Point -22.966254  -43.230750   \n",
       "2  United States           US         Point  21.286340 -157.839190   \n",
       "3  United States           US         Point  40.697910  -73.936150   \n",
       "4         Brazil           BR         Point -22.971951  -43.205047   \n",
       "\n",
       "   is_location_exact  availability_30  availability_60  availability_90  \\\n",
       "0                  0               28               47               74   \n",
       "1                  1                0                0                0   \n",
       "2                  1               16               46               76   \n",
       "3                  1                0                0                0   \n",
       "4                  1               28               58               88   \n",
       "\n",
       "   availability_365  \n",
       "0               239  \n",
       "1                 0  \n",
       "2               343  \n",
       "3                 0  \n",
       "4               363  "
      ]
     },
     "execution_count": 43,
     "metadata": {},
     "output_type": "execute_result"
    }
   ],
   "source": [
    "df.head()"
   ]
  },
  {
   "cell_type": "code",
   "execution_count": 42,
   "id": "21d530a8",
   "metadata": {},
   "outputs": [],
   "source": [
    "client.close()"
   ]
  }
 ],
 "metadata": {
  "kernelspec": {
   "display_name": "Python 3 (ipykernel)",
   "language": "python",
   "name": "python3"
  },
  "language_info": {
   "codemirror_mode": {
    "name": "ipython",
    "version": 3
   },
   "file_extension": ".py",
   "mimetype": "text/x-python",
   "name": "python",
   "nbconvert_exporter": "python",
   "pygments_lexer": "ipython3",
   "version": "3.10.9"
  }
 },
 "nbformat": 4,
 "nbformat_minor": 5
}
